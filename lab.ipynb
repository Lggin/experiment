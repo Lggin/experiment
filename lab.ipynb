{
 "cells": [
  {
   "cell_type": "code",
   "id": "initial_id",
   "metadata": {
    "collapsed": true
   },
   "source": [
    "import pandas as pd\n",
    "import numpy as np\n",
    "import gc\n",
    "import xgboost as xgb\n",
    "from sklearn.preprocessing import LabelEncoder\n",
    "from sklearn.model_selection import GridSearchCV, train_test_split\n",
    "from sklearn.utils.class_weight import compute_sample_weight\n",
    "from xgboost import XGBClassifier\n",
    "from sklearn.metrics import f1_score"
   ],
   "outputs": [],
   "execution_count": null
  },
  {
   "metadata": {},
   "cell_type": "code",
   "source": [
    "train_data = pd.read_csv('train07to10.csv')\n",
    "train_data2 = pd.read_csv('train11to12.csv')"
   ],
   "id": "53f052872bfbe37a",
   "outputs": [],
   "execution_count": null
  },
  {
   "metadata": {},
   "cell_type": "code",
   "source": [
    "test_data = pd.read_csv('test07to10.csv')\n",
    "test_data2 = pd.read_csv('test11to12.csv')"
   ],
   "id": "20e5cb8492bbfe66",
   "outputs": [],
   "execution_count": null
  },
  {
   "metadata": {},
   "cell_type": "code",
   "source": "train_df = pd.concat([train_data, train_data2])",
   "id": "4ff35ef729c12b01",
   "outputs": [],
   "execution_count": null
  },
  {
   "metadata": {},
   "cell_type": "code",
   "source": "test_df = pd.concat([test_data, test_data2])",
   "id": "658c80e02a96358a",
   "outputs": [],
   "execution_count": null
  },
  {
   "metadata": {},
   "cell_type": "code",
   "source": [
    "feature_cols = [col for col in train_df.columns if col not in [\"ID\", \"Segment\"]]\n",
    "\n",
    "X = train_df[feature_cols].copy()\n",
    "y = train_df[\"Segment\"].copy()\n",
    "\n",
    "# 타깃 라벨 인코딩\n",
    "le_target = LabelEncoder()\n",
    "y_encoded = le_target.fit_transform(y)"
   ],
   "id": "338ba42959db47c7",
   "outputs": [],
   "execution_count": null
  },
  {
   "metadata": {},
   "cell_type": "code",
   "source": [
    "categorical_features = X.select_dtypes(include=['object']).columns.tolist()\n",
    "\n",
    "X_test = test_df.copy()\n",
    "\n",
    "encoders = {}  # 각 컬럼별 encoder 저장\n",
    "\n",
    "for col in categorical_features:\n",
    "    le_train = LabelEncoder()\n",
    "    X[col] = le_train.fit_transform(X[col])\n",
    "    encoders[col] = le_train\n",
    "    unseen_labels_val = set(X_test[col]) - set(le_train.classes_)\n",
    "    if unseen_labels_val:\n",
    "        le_train.classes_ = np.append(le_train.classes_, list(unseen_labels_val))\n",
    "    X_test[col] = le_train.transform(X_test[col])"
   ],
   "id": "12af7b61dcd4b6c1",
   "outputs": [],
   "execution_count": null
  },
  {
   "metadata": {},
   "cell_type": "code",
   "source": "X_train, X_val, y_train, y_val = train_test_split(X, y_encoded, test_size=0.2, random_state=42)",
   "id": "ac37faf149df7ac0",
   "outputs": [],
   "execution_count": null
  },
  {
   "metadata": {},
   "cell_type": "code",
   "source": "X_test = X_test[X.columns]",
   "id": "2dcb317eb588b0be",
   "outputs": [],
   "execution_count": null
  },
  {
   "metadata": {},
   "cell_type": "code",
   "source": [
    "# XGBoost용 custom eval function\n",
    "def xgb_f1_score(y_pred, dtrain):\n",
    "    y_true = dtrain.get_label()\n",
    "    y_pred = y_pred.reshape(-1, 5)  # 5 클래스\n",
    "    y_pred_labels = y_pred.argmax(axis=1)\n",
    "    return 'f1_macro', f1_score(y_true, y_pred_labels, average='macro')"
   ],
   "id": "374ecae1599b7699",
   "outputs": [],
   "execution_count": null
  },
  {
   "metadata": {},
   "cell_type": "code",
   "source": [
    "# 원본 클래스명과 매핑된 숫자 확인\n",
    "class_mapping = dict(zip(le_target.classes_, le_target.transform(le_target.classes_)))\n",
    "print(class_mapping)  # {'A': 0, 'B': 1, 'C': 2, 'D': 3, 'E': 4}\n",
    "\n",
    "\n",
    "# 2. 클래스별 샘플 수 정의\n",
    "class_counts = {\n",
    "    'A': 972,\n",
    "    'B': 144,\n",
    "    'C': 127590,\n",
    "    'D': 349242,\n",
    "    'E': 1922052\n",
    "}\n",
    "reference = class_counts['E']\n",
    "weights = {le_target.transform([k])[0]: reference / v for k, v in class_counts.items()}\n",
    "\n",
    "# 3. 샘플별 가중치 계산\n",
    "sample_weights = compute_sample_weight(class_weight=weights, y=y_encoded)\n",
    "\n",
    "# 4. XGBoost 모델 학습 (올바른 방식)\n",
    "model = XGBClassifier(\n",
    "    objective='multi:softprob',\n",
    "    num_class=5,\n",
    "    eval_metric=xgb_f1_score,\n",
    "    max_depth=6,\n",
    "    learning_rate=0.05,\n",
    "    n_estimators=1000,\n",
    "    subsample=0.8,\n",
    "    colsample_bytree=0.8,\n",
    "    min_child_weight=3,\n",
    "    scale_pos_weight=1,  # 샘플 가중치로 처리하니 이건 고정\n",
    "    tree_method='hist',  # 속도 빠르게\n",
    "    random_state=42\n",
    ")\n",
    "\n",
    "model.fit(\n",
    "    X, y_encoded,\n",
    "    sample_weight=sample_weights,\n",
    "    eval_set=[(X_val, y_val)],  # 검증 데이터 넣을 수 있으면 좋아\n",
    "    early_stopping_rounds=10,\n",
    "    verbose=True\n",
    ")"
   ],
   "id": "995c6274f415cb76",
   "outputs": [],
   "execution_count": null
  },
  {
   "metadata": {},
   "cell_type": "code",
   "source": "X_test.drop(columns=['ID'],inplace=True)",
   "id": "ac2b104f6993c972",
   "outputs": [],
   "execution_count": null
  },
  {
   "metadata": {},
   "cell_type": "code",
   "source": [
    "# row-level 예측 수행\n",
    "y_test_pred = model.predict(X_test)\n",
    "# 예측 결과를 변환\n",
    "y_test_pred_labels = le_target.inverse_transform(y_test_pred)\n",
    "\n",
    "# row 단위 예측 결과를 test_data에 추가\n",
    "test_data1 = test_df.copy()  # 원본 유지\n",
    "test_data1[\"pred_label\"] = y_test_pred_labels"
   ],
   "id": "d1c85d1f1f98e459",
   "outputs": [],
   "execution_count": null
  },
  {
   "metadata": {},
   "cell_type": "code",
   "source": [
    "submission = test_data1.groupby(\"ID\")[\"pred_label\"] \\\n",
    "    .agg(lambda x: x.value_counts().idxmax()) \\\n",
    "    .reset_index()\n",
    "\n",
    "submission.columns = [\"ID\", \"Segment\"]"
   ],
   "id": "a667e87610a33256",
   "outputs": [],
   "execution_count": null
  },
  {
   "metadata": {},
   "cell_type": "code",
   "source": "submission.to_csv(r'C:\\Users\\id000\\Downloads/xgboost_submit7.csv',index=False)",
   "id": "af5d88f49f7e10a",
   "outputs": [],
   "execution_count": null
  },
  {
   "metadata": {},
   "cell_type": "code",
   "source": "",
   "id": "2c6f18d655bf9a92",
   "outputs": [],
   "execution_count": null
  },
  {
   "metadata": {},
   "cell_type": "code",
   "source": "",
   "id": "6269478837f65848",
   "outputs": [],
   "execution_count": null
  },
  {
   "metadata": {},
   "cell_type": "code",
   "source": "",
   "id": "6452cb5d20e16987",
   "outputs": [],
   "execution_count": null
  },
  {
   "metadata": {},
   "cell_type": "code",
   "source": "",
   "id": "cf066fb4f6698698",
   "outputs": [],
   "execution_count": null
  },
  {
   "metadata": {},
   "cell_type": "code",
   "source": "",
   "id": "b3410d5334a70dbc",
   "outputs": [],
   "execution_count": null
  }
 ],
 "metadata": {
  "kernelspec": {
   "display_name": "Python 3",
   "language": "python",
   "name": "python3"
  },
  "language_info": {
   "codemirror_mode": {
    "name": "ipython",
    "version": 2
   },
   "file_extension": ".py",
   "mimetype": "text/x-python",
   "name": "python",
   "nbconvert_exporter": "python",
   "pygments_lexer": "ipython2",
   "version": "2.7.6"
  }
 },
 "nbformat": 4,
 "nbformat_minor": 5
}
